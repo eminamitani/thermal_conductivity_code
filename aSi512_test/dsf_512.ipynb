{
 "cells": [
  {
   "cell_type": "code",
   "execution_count": 27,
   "metadata": {},
   "outputs": [],
   "source": [
    "from ase.io import read\n",
    "atoms=read('optimized.vasp',format='vasp')\n",
    "import numpy as np\n",
    "natom=len(atoms.positions)\n",
    "nmodes=natom*3\n",
    "dyn_file='Dyn.form'\n",
    "lammps_dyn=np.loadtxt(dyn_file).reshape((nmodes,nmodes))\n",
    "eigenvalue, eigenvector=np.linalg.eigh(lammps_dyn)"
   ]
  },
  {
   "cell_type": "code",
   "execution_count": 28,
   "metadata": {},
   "outputs": [],
   "source": [
    "kmin=2.0*np.pi/atoms.cell[0,0]"
   ]
  },
  {
   "cell_type": "code",
   "execution_count": 29,
   "metadata": {},
   "outputs": [],
   "source": [
    "kmax=kmin*10\n",
    "kvec=np.linspace(kmin,kmax,50)\n",
    "n_kpt=len(kvec)"
   ]
  },
  {
   "cell_type": "code",
   "execution_count": 30,
   "metadata": {},
   "outputs": [],
   "source": [
    "import pyAF.constants\n",
    "pc=pyAF.constants.physical_constants()\n",
    "omega=[]\n",
    "nmodes=len(eigenvalue)\n",
    "#extract minimum index of negative frequency\n",
    "mode_negative=0\n",
    "for i in range(nmodes):\n",
    "    if eigenvalue[i] <0.0:\n",
    "        val=0\n",
    "        omega.append(val)\n",
    "        mode_negative=i\n",
    "    else:\n",
    "        val=np.sqrt(eigenvalue[i])*pc.scale_THz\n",
    "        omega.append(val)"
   ]
  },
  {
   "cell_type": "code",
   "execution_count": 31,
   "metadata": {},
   "outputs": [
    {
     "name": "stdout",
     "output_type": "stream",
     "text": [
      "energy THz 2.814476797372754, energy meV 11.639747256590578\n"
     ]
    },
    {
     "data": {
      "text/plain": [
       "<matplotlib.legend.Legend at 0x2af64bad7fd0>"
      ]
     },
     "execution_count": 31,
     "metadata": {},
     "output_type": "execute_result"
    },
    {
     "data": {
      "image/png": "[encoded data removed]",
      "text/plain": [
       "<Figure size 432x288 with 1 Axes>"
      ]
     },
     "metadata": {
      "needs_background": "light"
     },
     "output_type": "display_data"
    }
   ],
   "source": [
    "import pyAF.postprocess\n",
    "\n",
    "#cheking Fourier component\n",
    "\n",
    "id=50\n",
    "n_sample=10\n",
    "E=omega[id]\n",
    "print(f'energy THz {E}, energy meV {E*4.13567}')\n",
    "position=atoms.positions\n",
    "ev=eigenvector[:,id]\n",
    "\n",
    "kvec=np.linspace(kmin,kmin*25,50)\n",
    "C_L=[]\n",
    "C_T=[]\n",
    "for k in kvec:\n",
    "    k_vector=pyAF.postprocess.polar_coord_sampling(n_sample,k)\n",
    "    tmp_L=np.zeros(n_sample*n_sample)\n",
    "    tmp_T=np.zeros(n_sample*n_sample)\n",
    "    for i,vec in enumerate(k_vector):\n",
    "\n",
    "        unit_vector_L=vec/np.linalg.norm(vec)\n",
    "        tmp_L[i], tmp_T[i]=pyAF.postprocess.get_Ci_ver2(ev,position,vec)\n",
    "    C_L.append(np.mean(tmp_L))\n",
    "    C_T.append(np.mean(tmp_T))\n",
    "\n",
    "\n",
    "import matplotlib.pyplot as plt\n",
    "plt.plot(kvec,C_L,label='L')\n",
    "plt.plot(kvec,C_T,label='T')\n",
    "plt.legend()"
   ]
  },
  {
   "cell_type": "code",
   "execution_count": 32,
   "metadata": {},
   "outputs": [
    {
     "data": {
      "text/plain": [
       "'\\nfrom tqdm import tqdm\\nimport pyAF.postprocess\\nn_sample=8\\nn_modes=natom*3\\nC_L=np.zeros((n_kpt,n_modes))\\nC_T=np.zeros((n_kpt,n_modes))\\nposition=atoms.positions\\n\\nfor ik,k in enumerate(tqdm(kvec)):\\n    k_vector=pyAF.postprocess.polar_coord_sampling(n_sample,k)\\n\\n    for imode in range(nmodes):\\n        ev=eigenvector[:,imode]\\n        tmp_L=np.zeros(n_sample*n_sample)\\n        tmp_T=np.zeros(n_sample*n_sample)\\n        for i,vec in enumerate(k_vector):\\n\\n            unit_vector_L=vec/np.linalg.norm(vec)\\n            tmp_L[i], tmp_T[i]=pyAF.postprocess.get_Ci_ver2(ev,position,vec)\\n        C_L[ik,imode]=np.mean(tmp_L)\\n        C_T[ik,imode]=np.mean(tmp_T)\\n'"
      ]
     },
     "execution_count": 32,
     "metadata": {},
     "output_type": "execute_result"
    }
   ],
   "source": [
    "#run only for initial calculation\n",
    "'''\n",
    "from tqdm import tqdm\n",
    "import pyAF.postprocess\n",
    "n_sample=8\n",
    "n_modes=natom*3\n",
    "C_L=np.zeros((n_kpt,n_modes))\n",
    "C_T=np.zeros((n_kpt,n_modes))\n",
    "position=atoms.positions\n",
    "\n",
    "for ik,k in enumerate(tqdm(kvec)):\n",
    "    k_vector=pyAF.postprocess.polar_coord_sampling(n_sample,k)\n",
    "\n",
    "    for imode in range(nmodes):\n",
    "        ev=eigenvector[:,imode]\n",
    "        tmp_L=np.zeros(n_sample*n_sample)\n",
    "        tmp_T=np.zeros(n_sample*n_sample)\n",
    "        for i,vec in enumerate(k_vector):\n",
    "\n",
    "            unit_vector_L=vec/np.linalg.norm(vec)\n",
    "            tmp_L[i], tmp_T[i]=pyAF.postprocess.get_Ci_ver2(ev,position,vec)\n",
    "        C_L[ik,imode]=np.mean(tmp_L)\n",
    "        C_T[ik,imode]=np.mean(tmp_T)\n",
    "'''"
   ]
  },
  {
   "cell_type": "code",
   "execution_count": 33,
   "metadata": {},
   "outputs": [
    {
     "data": {
      "text/plain": [
       "\"\\nnp.save('C_L_512',C_L)\\nnp.save('C_T_512',C_T)\\n\""
      ]
     },
     "execution_count": 33,
     "metadata": {},
     "output_type": "execute_result"
    }
   ],
   "source": [
    "'''\n",
    "np.save('C_L_512',C_L)\n",
    "np.save('C_T_512',C_T)\n",
    "'''\n"
   ]
  },
  {
   "cell_type": "code",
   "execution_count": 34,
   "metadata": {},
   "outputs": [],
   "source": [
    "import numpy as np\n",
    "C_L=np.load('C_L_512.npy')\n",
    "C_T=np.load('C_T_512.npy')"
   ]
  },
  {
   "cell_type": "code",
   "execution_count": 35,
   "metadata": {},
   "outputs": [],
   "source": [
    "mesh_energy=np.linspace(0,15,100)"
   ]
  },
  {
   "cell_type": "code",
   "execution_count": 36,
   "metadata": {},
   "outputs": [
    {
     "data": {
      "text/plain": [
       "50"
      ]
     },
     "execution_count": 36,
     "metadata": {},
     "output_type": "execute_result"
    }
   ],
   "source": [
    "C_L.shape[0]"
   ]
  },
  {
   "cell_type": "code",
   "execution_count": 37,
   "metadata": {},
   "outputs": [],
   "source": [
    "import pyAF.postprocess"
   ]
  },
  {
   "cell_type": "code",
   "execution_count": 38,
   "metadata": {},
   "outputs": [],
   "source": [
    "dsf_L, dsf_T=pyAF.postprocess.dynamic_structure_factor(C_L=C_L, C_T=C_T, mesh_energy=mesh_energy, frequency=omega, smearing=0.05)"
   ]
  },
  {
   "cell_type": "code",
   "execution_count": 1,
   "metadata": {},
   "outputs": [
    {
     "ename": "NameError",
     "evalue": "name 'mesh_energy' is not defined",
     "output_type": "error",
     "traceback": [
      "\u001b[0;31m---------------------------------------------------------------------------\u001b[0m",
      "\u001b[0;31mNameError\u001b[0m                                 Traceback (most recent call last)",
      "\u001b[0;32m<ipython-input-1-2ee6d223acc9>\u001b[0m in \u001b[0;36m<module>\u001b[0;34m\u001b[0m\n\u001b[1;32m      1\u001b[0m \u001b[0;32mimport\u001b[0m \u001b[0mmatplotlib\u001b[0m\u001b[0;34m.\u001b[0m\u001b[0mpyplot\u001b[0m \u001b[0;32mas\u001b[0m \u001b[0mplt\u001b[0m\u001b[0;34m\u001b[0m\u001b[0;34m\u001b[0m\u001b[0m\n\u001b[0;32m----> 2\u001b[0;31m \u001b[0mplt\u001b[0m\u001b[0;34m.\u001b[0m\u001b[0mplot\u001b[0m\u001b[0;34m(\u001b[0m\u001b[0mmesh_energy\u001b[0m\u001b[0;34m,\u001b[0m\u001b[0mdsf_L\u001b[0m\u001b[0;34m[\u001b[0m\u001b[0;36m0\u001b[0m\u001b[0;34m,\u001b[0m\u001b[0;34m:\u001b[0m\u001b[0;34m]\u001b[0m\u001b[0;34m,\u001b[0m\u001b[0mlabel\u001b[0m\u001b[0;34m=\u001b[0m\u001b[0;34m'k={0:.3f}'\u001b[0m\u001b[0;34m.\u001b[0m\u001b[0mformat\u001b[0m\u001b[0;34m(\u001b[0m\u001b[0mkvec\u001b[0m\u001b[0;34m[\u001b[0m\u001b[0;36m0\u001b[0m\u001b[0;34m]\u001b[0m\u001b[0;34m)\u001b[0m\u001b[0;34m)\u001b[0m\u001b[0;34m\u001b[0m\u001b[0;34m\u001b[0m\u001b[0m\n\u001b[0m\u001b[1;32m      3\u001b[0m \u001b[0mplt\u001b[0m\u001b[0;34m.\u001b[0m\u001b[0mplot\u001b[0m\u001b[0;34m(\u001b[0m\u001b[0mmesh_energy\u001b[0m\u001b[0;34m,\u001b[0m\u001b[0mdsf_L\u001b[0m\u001b[0;34m[\u001b[0m\u001b[0;36m2\u001b[0m\u001b[0;34m,\u001b[0m\u001b[0;34m:\u001b[0m\u001b[0;34m]\u001b[0m\u001b[0;34m,\u001b[0m\u001b[0mlabel\u001b[0m\u001b[0;34m=\u001b[0m\u001b[0;34m'k={0:.3f}'\u001b[0m\u001b[0;34m.\u001b[0m\u001b[0mformat\u001b[0m\u001b[0;34m(\u001b[0m\u001b[0mkvec\u001b[0m\u001b[0;34m[\u001b[0m\u001b[0;36m2\u001b[0m\u001b[0;34m]\u001b[0m\u001b[0;34m)\u001b[0m\u001b[0;34m)\u001b[0m\u001b[0;34m\u001b[0m\u001b[0;34m\u001b[0m\u001b[0m\n\u001b[1;32m      4\u001b[0m \u001b[0mplt\u001b[0m\u001b[0;34m.\u001b[0m\u001b[0mplot\u001b[0m\u001b[0;34m(\u001b[0m\u001b[0mmesh_energy\u001b[0m\u001b[0;34m,\u001b[0m\u001b[0mdsf_L\u001b[0m\u001b[0;34m[\u001b[0m\u001b[0;36m4\u001b[0m\u001b[0;34m,\u001b[0m\u001b[0;34m:\u001b[0m\u001b[0;34m]\u001b[0m\u001b[0;34m,\u001b[0m\u001b[0mlabel\u001b[0m\u001b[0;34m=\u001b[0m\u001b[0;34m'k={0:.3f}'\u001b[0m\u001b[0;34m.\u001b[0m\u001b[0mformat\u001b[0m\u001b[0;34m(\u001b[0m\u001b[0mkvec\u001b[0m\u001b[0;34m[\u001b[0m\u001b[0;36m4\u001b[0m\u001b[0;34m]\u001b[0m\u001b[0;34m)\u001b[0m\u001b[0;34m)\u001b[0m\u001b[0;34m\u001b[0m\u001b[0;34m\u001b[0m\u001b[0m\n\u001b[1;32m      5\u001b[0m \u001b[0mplt\u001b[0m\u001b[0;34m.\u001b[0m\u001b[0mplot\u001b[0m\u001b[0;34m(\u001b[0m\u001b[0mmesh_energy\u001b[0m\u001b[0;34m,\u001b[0m\u001b[0mdsf_L\u001b[0m\u001b[0;34m[\u001b[0m\u001b[0;36m6\u001b[0m\u001b[0;34m,\u001b[0m\u001b[0;34m:\u001b[0m\u001b[0;34m]\u001b[0m\u001b[0;34m,\u001b[0m\u001b[0mlabel\u001b[0m\u001b[0;34m=\u001b[0m\u001b[0;34m'k={0:.3f}'\u001b[0m\u001b[0;34m.\u001b[0m\u001b[0mformat\u001b[0m\u001b[0;34m(\u001b[0m\u001b[0mkvec\u001b[0m\u001b[0;34m[\u001b[0m\u001b[0;36m6\u001b[0m\u001b[0;34m]\u001b[0m\u001b[0;34m)\u001b[0m\u001b[0;34m)\u001b[0m\u001b[0;34m\u001b[0m\u001b[0;34m\u001b[0m\u001b[0m\n",
      "\u001b[0;31mNameError\u001b[0m: name 'mesh_energy' is not defined"
     ]
    }
   ],
   "source": [
    "import matplotlib.pyplot as plt\n",
    "plt.plot(mesh_energy,dsf_L[0,:],label='k={0:.3f}'.format(kvec[0]))\n",
    "plt.plot(mesh_energy,dsf_L[2,:],label='k={0:.3f}'.format(kvec[2]))\n",
    "plt.plot(mesh_energy,dsf_L[4,:],label='k={0:.3f}'.format(kvec[4]))\n",
    "plt.plot(mesh_energy,dsf_L[6,:],label='k={0:.3f}'.format(kvec[6]))\n",
    "\n",
    "plt.xlabel('frequenct THz')\n",
    "plt.legend()\n",
    "plt.savefig('S_L_512atom.png')"
   ]
  },
  {
   "cell_type": "code",
   "execution_count": 51,
   "metadata": {},
   "outputs": [
    {
     "data": {
      "image/png": "[encoded data removed]",
      "text/plain": [
       "<Figure size 432x288 with 1 Axes>"
      ]
     },
     "metadata": {
      "needs_background": "light"
     },
     "output_type": "display_data"
    }
   ],
   "source": [
    "import matplotlib.pyplot as plt\n",
    "plt.plot(mesh_energy,dsf_T[0,:],label='k={0:.3f}'.format(kvec[0]))\n",
    "plt.plot(mesh_energy,dsf_T[2,:],label='k={0:.3f}'.format(kvec[2]))\n",
    "plt.plot(mesh_energy,dsf_T[4,:],label='k={0:.3f}'.format(kvec[4]))\n",
    "plt.plot(mesh_energy,dsf_T[6,:],label='k={0:.3f}'.format(kvec[6]))\n",
    "\n",
    "plt.xlabel('frequenct THz')\n",
    "plt.legend()\n",
    "plt.savefig('S_T_512atom.png')"
   ]
  }
 ],
 "metadata": {
  "interpreter": {
   "hash": "cb7935f57bbdef563505bbe55a73b776f504e7646c87521f5e2f2142831702de"
  },
  "kernelspec": {
   "display_name": "Python 3.9.5 64-bit ('env_3.9': venv)",
   "name": "python3"
  },
  "language_info": {
   "codemirror_mode": {
    "name": "ipython",
    "version": 3
   },
   "file_extension": ".py",
   "mimetype": "text/x-python",
   "name": "python",
   "nbconvert_exporter": "python",
   "pygments_lexer": "ipython3",
   "version": "3.9.5"
  },
  "orig_nbformat": 4
 },
 "nbformat": 4,
 "nbformat_minor": 2
}
