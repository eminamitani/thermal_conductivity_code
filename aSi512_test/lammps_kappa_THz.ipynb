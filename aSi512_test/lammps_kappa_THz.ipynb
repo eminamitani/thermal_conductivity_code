{
 "cells": [
  {
   "cell_type": "code",
   "execution_count": 1,
   "source": [
    "import pyAF\n",
    "from pyAF.interface import thermal_conductivity_THz\n",
    "results=thermal_conductivity_THz('setup.yaml')"
   ],
   "outputs": [
    {
     "output_type": "stream",
     "name": "stdout",
     "text": [
      "loaded calculation setups:\n",
      "{'structure_file': 'optimized.vasp', 'dyn_file': 'Dyn.form', 'style': 'lammps-regular', 'temperature': 300, 'broadening_factor': 5.0, 'using_mean_spacing': True, 'omega_threshould': 0.01, 'broadening_threshould': 0.01, 'two_dim': False}\n",
      "enter thermal conductivity calculation\n",
      "style is lammps-regular\n",
      "average mode spacing:0.082616 2piTHz\n"
     ]
    }
   ],
   "metadata": {}
  },
  {
   "cell_type": "code",
   "execution_count": 2,
   "source": [
    "import numpy as np\n",
    "np.sum(results['thermal_conductivity'])"
   ],
   "outputs": [
    {
     "output_type": "execute_result",
     "data": {
      "text/plain": [
       "1.275921968704577"
      ]
     },
     "metadata": {},
     "execution_count": 2
    }
   ],
   "metadata": {}
  }
 ],
 "metadata": {
  "orig_nbformat": 4,
  "language_info": {
   "name": "python",
   "version": "3.9.5",
   "mimetype": "text/x-python",
   "codemirror_mode": {
    "name": "ipython",
    "version": 3
   },
   "pygments_lexer": "ipython3",
   "nbconvert_exporter": "python",
   "file_extension": ".py"
  },
  "kernelspec": {
   "name": "python3",
   "display_name": "Python 3.9.5 64-bit ('env_3.9': venv)"
  },
  "interpreter": {
   "hash": "f28014fb09611fa8280d50d19c96de868b70c0c432dcef6642ed055c9deb0d24"
  }
 },
 "nbformat": 4,
 "nbformat_minor": 2
}