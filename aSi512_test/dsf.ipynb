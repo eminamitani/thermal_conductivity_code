{
 "cells": [
  {
   "cell_type": "markdown",
   "metadata": {},
   "source": [
    "Dynamical Structure Factor\n",
    "(Still someting wrong)"
   ]
  },
  {
   "cell_type": "code",
   "execution_count": 179,
   "metadata": {},
   "outputs": [],
   "source": [
    "from ase.io import read\n",
    "\n",
    "atoms=read('optimized.vasp',format='vasp')"
   ]
  },
  {
   "cell_type": "code",
   "execution_count": 180,
   "metadata": {},
   "outputs": [],
   "source": [
    "import numpy as np\n",
    "natom=len(atoms.positions)\n",
    "nmodes=natom*3\n",
    "dyn_file='Dyn.form'\n",
    "lammps_dyn=np.loadtxt(dyn_file).reshape((nmodes,nmodes))"
   ]
  },
  {
   "cell_type": "code",
   "execution_count": 181,
   "metadata": {},
   "outputs": [],
   "source": [
    "eigenvalue, eigenvector=np.linalg.eigh(lammps_dyn)"
   ]
  },
  {
   "cell_type": "code",
   "execution_count": 182,
   "metadata": {},
   "outputs": [],
   "source": [
    "def broadening(omega1, omega2, sigma):\n",
    "    delta=1.0/np.pi*sigma/((omega1-omega2)**2+sigma*sigma)\n",
    "    return delta"
   ]
  },
  {
   "cell_type": "code",
   "execution_count": 183,
   "metadata": {},
   "outputs": [
    {
     "data": {
      "text/plain": [
       "5.47232925"
      ]
     },
     "execution_count": 183,
     "metadata": {},
     "output_type": "execute_result"
    }
   ],
   "source": [
    "a_super=atoms.cell[0,0]\n",
    "a0=a_super/4\n",
    "a0"
   ]
  },
  {
   "cell_type": "code",
   "execution_count": 184,
   "metadata": {},
   "outputs": [
    {
     "data": {
      "text/plain": [
       "1.1481738433738407"
      ]
     },
     "execution_count": 184,
     "metadata": {},
     "output_type": "execute_result"
    }
   ],
   "source": [
    "kmax=2.0*np.pi/a0\n",
    "kmax"
   ]
  },
  {
   "cell_type": "code",
   "execution_count": 185,
   "metadata": {},
   "outputs": [],
   "source": [
    "omega_min=5.0\n",
    "omega_max=100.0\n",
    "nom=100\n",
    "nwn=4\n",
    "om=np.linspace(omega_min,omega_max,nom)\n",
    "wn=np.array([kmax/4.0, kmax/2.0,3.0*kmax/4.0, kmax])\n",
    "\n",
    "dsf_L=np.zeros([nwn,nom])\n",
    "EL=np.zeros([nwn,nmodes])"
   ]
  },
  {
   "cell_type": "code",
   "execution_count": 186,
   "metadata": {},
   "outputs": [
    {
     "data": {
      "text/plain": [
       "array([0.28704346, 0.57408692, 0.86113038, 1.14817384])"
      ]
     },
     "execution_count": 186,
     "metadata": {},
     "output_type": "execute_result"
    }
   ],
   "source": [
    "wn"
   ]
  },
  {
   "cell_type": "code",
   "execution_count": 187,
   "metadata": {},
   "outputs": [],
   "source": [
    "import pyAF.constants\n",
    "pc=pyAF.constants.physical_constants()\n",
    "omega=[]\n",
    "#extract minimum index of negative frequency\n",
    "mode_negative=0\n",
    "for i in range(nmodes):\n",
    "    if eigenvalue[i] <0.0:\n",
    "        val=-np.sqrt(-eigenvalue[i])*pc.scale_cm\n",
    "        omega.append(val)\n",
    "        mode_negative=i\n",
    "    else:\n",
    "        val=np.sqrt(eigenvalue[i])*pc.scale_cm\n",
    "        omega.append(val)"
   ]
  },
  {
   "cell_type": "code",
   "execution_count": 188,
   "metadata": {},
   "outputs": [
    {
     "name": "stdout",
     "output_type": "stream",
     "text": [
      "[-0.00855852 -0.06308095  0.00563376 ...  0.00027849  0.03054212\n",
      "  0.02359806]\n"
     ]
    }
   ],
   "source": [
    "#test for single mode eigenvector\n",
    "ind=10\n",
    "partial=eigenvector[:,ind]\n",
    "print(partial)\n",
    "EL=np.zeros([nwn,nmodes])\n",
    "for ik in range(nwn):\n",
    "    k=np.array([wn[ik],0,0])\n",
    "    contrib=0.0\n",
    "    for j in range(natom):\n",
    "        nstart=3*j\n",
    "        nend=3*(j+1)\n",
    "        disp=partial[nstart:nend]\n",
    "        \n",
    "        pos=atoms.positions[j]\n",
    "        \n",
    "        phase=np.exp(1.0j*np.dot(k,pos))\n",
    "        polarlization=np.dot(k,disp)\n",
    "        factor=phase*polarlization\n",
    "        \n",
    "        contrib=contrib+factor\n",
    "    EL[ik,ind]=EL[ik,ind]+np.abs(contrib)**2/3"
   ]
  },
  {
   "cell_type": "code",
   "execution_count": 189,
   "metadata": {},
   "outputs": [
    {
     "data": {
      "text/plain": [
       "array([0.00139433, 0.00258958, 0.00703895, 0.00172068])"
      ]
     },
     "execution_count": 189,
     "metadata": {},
     "output_type": "execute_result"
    }
   ],
   "source": [
    "EL[:,ind]"
   ]
  },
  {
   "cell_type": "code",
   "execution_count": 190,
   "metadata": {},
   "outputs": [
    {
     "data": {
      "text/plain": [
       "56.82848751736935"
      ]
     },
     "execution_count": 190,
     "metadata": {},
     "output_type": "execute_result"
    }
   ],
   "source": [
    "omega[ind]"
   ]
  },
  {
   "cell_type": "code",
   "execution_count": 191,
   "metadata": {},
   "outputs": [],
   "source": [
    "b=[]\n",
    "for iw in range(nom):\n",
    "    b.append(broadening(om[iw],omega[ind],sigma))"
   ]
  },
  {
   "cell_type": "code",
   "execution_count": 192,
   "metadata": {},
   "outputs": [
    {
     "data": {
      "text/plain": [
       "[0.00011845445809831006,\n",
       " 0.00012296394189602238,\n",
       " 0.0001277358880429459,\n",
       " 0.00013279106377131692,\n",
       " 0.00013815233138233724,\n",
       " 0.0001438449070491834,\n",
       " 0.00014989665769467992,\n",
       " 0.00015633844248141518,\n",
       " 0.00016320450674242172,\n",
       " 0.00017053293776013974,\n",
       " 0.00017836619374316637,\n",
       " 0.00018675171974774253,\n",
       " 0.0001957426672644555,\n",
       " 0.0002053987378962145,\n",
       " 0.00021578717619437774,\n",
       " 0.00022698394256226556,\n",
       " 0.0002390751045303625,\n",
       " 0.0002521584941214475,\n",
       " 0.00026634569107977633,\n",
       " 0.00028176440727507493,\n",
       " 0.0002985613677473673,\n",
       " 0.0003169058101884551,\n",
       " 0.0003369937593056829,\n",
       " 0.00035905327846838504,\n",
       " 0.0003833509624889836,\n",
       " 0.00041020001828485583,\n",
       " 0.000439970393026548,\n",
       " 0.00047310156455702653,\n",
       " 0.0005101188244887145,\n",
       " 0.0005516541873765625,\n",
       " 0.0005984734902799199,\n",
       " 0.0006515118678372848,\n",
       " 0.0007119206948888106,\n",
       " 0.0007811304335687135,\n",
       " 0.0008609358488343192,\n",
       " 0.0009536131660152239,\n",
       " 0.0010620836070258247,\n",
       " 0.0011901455090664757,\n",
       " 0.0013428099259950538,\n",
       " 0.0015267959042746158,\n",
       " 0.0017512783611316838,\n",
       " 0.002029046919962025,\n",
       " 0.00237835482332591,\n",
       " 0.0028259691559514785,\n",
       " 0.003412400837529493,\n",
       " 0.004201284838794147,\n",
       " 0.005297122229624951,\n",
       " 0.006881043987259694,\n",
       " 0.009288713840687184,\n",
       " 0.013197140990595609,\n",
       " 0.020130382585625002,\n",
       " 0.03405526863690581,\n",
       " 0.06739625463454771,\n",
       " 0.1640172992629253,\n",
       " 0.3182760828971676,\n",
       " 0.16743000372083844,\n",
       " 0.06854444462496848,\n",
       " 0.034493208925831166,\n",
       " 0.020333855918366173,\n",
       " 0.013306255234309962,\n",
       " 0.009353496167566689,\n",
       " 0.0069224811386113475,\n",
       " 0.005325166160064827,\n",
       " 0.004221119648361036,\n",
       " 0.003426933374530683,\n",
       " 0.002836928491596222,\n",
       " 0.0023868203378493197,\n",
       " 0.0020357200445225753,\n",
       " 0.0017566306483322153,\n",
       " 0.0015311536990073695,\n",
       " 0.0013464048185880325,\n",
       " 0.001193145487433532,\n",
       " 0.0010646128972784546,\n",
       " 0.0009557652181971945,\n",
       " 0.0008627820440541754,\n",
       " 0.0007827260495499528,\n",
       " 0.000713309073079889,\n",
       " 0.0006527273755842132,\n",
       " 0.0005995436601286727,\n",
       " 0.00055260128458017,\n",
       " 0.0005109610108363312,\n",
       " 0.0004738537730418153,\n",
       " 0.0004406449925956702,\n",
       " 0.00041080732430713167,\n",
       " 0.0003838996325280319,\n",
       " 0.0003595506218822079,\n",
       " 0.00033744598145913366,\n",
       " 0.00031731820659186853,\n",
       " 0.0002989384795165035,\n",
       " 0.00028211014647207093,\n",
       " 0.00026666344242189967,\n",
       " 0.0002524511980144964,\n",
       " 0.00023934532524418198,\n",
       " 0.00022723392451012275,\n",
       " 0.00021601889063010388,\n",
       " 0.0002056139218488537,\n",
       " 0.00019594285615050152,\n",
       " 0.00018693827480738317,\n",
       " 0.0001785403252183346,\n",
       " 0.00017069572455310277]"
      ]
     },
     "execution_count": 192,
     "metadata": {},
     "output_type": "execute_result"
    }
   ],
   "source": [
    "b"
   ]
  },
  {
   "cell_type": "code",
   "execution_count": 193,
   "metadata": {},
   "outputs": [],
   "source": [
    "dsf_L=np.zeros([nwn,nom])\n",
    "sigma=0.5\n",
    "for iw in range(nom):\n",
    "    for ik in range(nwn):\n",
    "        dsf_L[ik,iw]=dsf_L[ik,iw]+EL[ik,ind]*broadening(om[iw],omega[ind],sigma)"
   ]
  },
  {
   "cell_type": "code",
   "execution_count": 194,
   "metadata": {},
   "outputs": [
    {
     "data": {
      "text/plain": [
       "array([8.26053680e-08, 8.57510117e-08, 8.90798120e-08, 9.26062684e-08,\n",
       "       9.63463443e-08, 1.00317648e-07, 1.04539638e-07, 1.09033868e-07,\n",
       "       1.13824254e-07, 1.18937401e-07, 1.24402965e-07, 1.30254094e-07,\n",
       "       1.36527922e-07, 1.43266164e-07, 1.50515813e-07, 1.58329958e-07,\n",
       "       1.66768758e-07, 1.75900607e-07, 1.85803520e-07, 1.96566807e-07,\n",
       "       2.08293090e-07, 2.21100761e-07, 2.35126980e-07, 2.50531360e-07,\n",
       "       2.67500527e-07, 2.86253799e-07, 3.07050303e-07, 3.30197972e-07,\n",
       "       3.56065004e-07, 3.85094588e-07, 4.17824005e-07, 4.54909655e-07,\n",
       "       4.97160202e-07, 5.45581007e-07, 6.01434446e-07, 6.66322966e-07,\n",
       "       7.42305212e-07, 8.32061176e-07, 9.39131538e-07, 1.06827183e-06,\n",
       "       1.22598900e-06, 1.42137603e-06, 1.66745012e-06, 1.98337339e-06,\n",
       "       2.39828965e-06, 2.95827319e-06, 3.73964336e-06, 4.87628320e-06,\n",
       "       6.62066703e-06, 9.49586002e-06, 1.47330024e-05, 2.58134360e-05,\n",
       "       5.58562081e-05, 1.86371731e-04, 8.87281216e-04, 1.92776054e-04,\n",
       "       5.69910843e-05, 2.61747542e-05, 1.48894140e-05, 9.57691318e-06,\n",
       "       6.66788214e-06, 4.90613472e-06, 3.75969328e-06, 2.97237988e-06,\n",
       "       2.40858649e-06, 1.99111683e-06, 1.67341880e-06, 1.42607318e-06,\n",
       "       1.22975146e-06, 1.07133194e-06, 9.41653728e-07, 8.34164451e-07,\n",
       "       7.44077414e-07, 6.67830075e-07, 6.02726792e-07, 5.46697525e-07,\n",
       "       4.98131390e-07, 4.55759675e-07, 4.18572201e-07, 3.85756592e-07,\n",
       "       3.56653562e-07, 3.30723557e-07, 3.07521588e-07, 2.86678012e-07,\n",
       "       2.67883733e-07, 2.50878678e-07, 2.35442755e-07, 2.21388700e-07,\n",
       "       2.08556370e-07, 1.96808165e-07, 1.86025324e-07, 1.76104913e-07,\n",
       "       1.66957359e-07, 1.58504423e-07, 1.50677521e-07, 1.43416328e-07,\n",
       "       1.36667615e-07, 1.30384268e-07, 1.24524466e-07, 1.19050981e-07])"
      ]
     },
     "execution_count": 194,
     "metadata": {},
     "output_type": "execute_result"
    }
   ],
   "source": [
    "dsf_L[0,:]"
   ]
  },
  {
   "cell_type": "code",
   "execution_count": 195,
   "metadata": {},
   "outputs": [
    {
     "data": {
      "text/plain": [
       "<matplotlib.legend.Legend at 0x2b8297b921f0>"
      ]
     },
     "execution_count": 195,
     "metadata": {},
     "output_type": "execute_result"
    },
    {
     "data": {
      "image/png": "[encoded data removed]",
      "text/plain": [
       "<Figure size 432x288 with 1 Axes>"
      ]
     },
     "metadata": {
      "needs_background": "light"
     },
     "output_type": "display_data"
    }
   ],
   "source": [
    "import matplotlib.pyplot as plt \n",
    "for ik in range(nwn):\n",
    "    plt.plot(dsf_L[ik,:],om,label=str(ik))\n",
    "plt.legend()"
   ]
  },
  {
   "cell_type": "code",
   "execution_count": 196,
   "metadata": {},
   "outputs": [],
   "source": [
    "#[100] direction\n",
    "dsf_L=np.zeros([nwn,nom])\n",
    "EL=np.zeros([nwn,nmodes])\n",
    "\n",
    "for ind, vec in enumerate(eigenvector.T):\n",
    "    for ik in range(nwn):\n",
    "        k=np.array([wn[ik],0,0])\n",
    "        contrib=0.0\n",
    "        for j in range(natom):\n",
    "            nstart=3*j\n",
    "            nend=3*(j+1)\n",
    "            disp=vec[nstart:nend]\n",
    "            pos=atoms.positions[j]\n",
    "            phase=np.exp(1.0j*np.dot(k,pos))\n",
    "            polarlization=np.dot(k,disp)\n",
    "            factor=phase*polarlization\n",
    "            contrib=contrib+factor\n",
    "\n",
    "        EL[ik,ind]=EL[ik,ind]+np.abs(contrib)**2/3\n"
   ]
  },
  {
   "cell_type": "code",
   "execution_count": 197,
   "metadata": {},
   "outputs": [
    {
     "data": {
      "text/plain": [
       "array([1.07626509e-03, 4.11591204e-05, 8.46858757e-04, ...,\n",
       "       1.01560523e-03, 1.07018554e-03, 8.57028808e-06])"
      ]
     },
     "execution_count": 197,
     "metadata": {},
     "output_type": "execute_result"
    }
   ],
   "source": [
    "EL[0,:]"
   ]
  },
  {
   "cell_type": "code",
   "execution_count": 210,
   "metadata": {},
   "outputs": [],
   "source": [
    "sigma=0.1\n",
    "for iw in range(nom):\n",
    "    for ik in range(nwn):\n",
    "        for ind in range(nmodes):\n",
    "            dsf_L[ik,iw]=dsf_L[ik,iw]+EL[ik,ind]*broadening(om[iw],omega[ind],sigma)"
   ]
  },
  {
   "cell_type": "code",
   "execution_count": 211,
   "metadata": {},
   "outputs": [
    {
     "data": {
      "text/plain": [
       "<matplotlib.legend.Legend at 0x2b8297c486a0>"
      ]
     },
     "execution_count": 211,
     "metadata": {},
     "output_type": "execute_result"
    },
    {
     "data": {
      "image/png": "[encoded data removed]",
      "text/plain": [
       "<Figure size 432x288 with 1 Axes>"
      ]
     },
     "metadata": {
      "needs_background": "light"
     },
     "output_type": "display_data"
    }
   ],
   "source": [
    "for ik in range(nwn):\n",
    "    plt.plot(dsf_L[ik,:],om,label=str(ik))\n",
    "plt.ylim(0,60)\n",
    "plt.xlim(0,0.1)\n",
    "plt.legend()"
   ]
  },
  {
   "cell_type": "code",
   "execution_count": 212,
   "metadata": {},
   "outputs": [
    {
     "data": {
      "text/plain": [
       "[<matplotlib.lines.Line2D at 0x2b8297cf7790>]"
      ]
     },
     "execution_count": 212,
     "metadata": {},
     "output_type": "execute_result"
    },
    {
     "data": {
      "image/png": "[encoded data removed]",
      "text/plain": [
       "<Figure size 432x288 with 1 Axes>"
      ]
     },
     "metadata": {
      "needs_background": "light"
     },
     "output_type": "display_data"
    }
   ],
   "source": [
    "plt.plot(dsf_L[0,:],om,label=str(ik))"
   ]
  },
  {
   "cell_type": "code",
   "execution_count": 213,
   "metadata": {},
   "outputs": [
    {
     "data": {
      "text/plain": [
       "[<matplotlib.lines.Line2D at 0x2b8297d5b520>]"
      ]
     },
     "execution_count": 213,
     "metadata": {},
     "output_type": "execute_result"
    },
    {
     "data": {
      "image/png": "[encoded data removed]",
      "text/plain": [
       "<Figure size 432x288 with 1 Axes>"
      ]
     },
     "metadata": {
      "needs_background": "light"
     },
     "output_type": "display_data"
    }
   ],
   "source": [
    "plt.plot(dsf_L[1,:],om,label=str(ik))"
   ]
  },
  {
   "cell_type": "code",
   "execution_count": 214,
   "metadata": {},
   "outputs": [
    {
     "data": {
      "text/plain": [
       "[<matplotlib.lines.Line2D at 0x2b8297dafc70>]"
      ]
     },
     "execution_count": 214,
     "metadata": {},
     "output_type": "execute_result"
    },
    {
     "data": {
      "image/png": "[encoded data removed]",
      "text/plain": [
       "<Figure size 432x288 with 1 Axes>"
      ]
     },
     "metadata": {
      "needs_background": "light"
     },
     "output_type": "display_data"
    }
   ],
   "source": [
    "plt.plot(dsf_L[2,:],om,label=str(ik))"
   ]
  },
  {
   "cell_type": "code",
   "execution_count": 215,
   "metadata": {},
   "outputs": [
    {
     "data": {
      "text/plain": [
       "[<matplotlib.lines.Line2D at 0x2b8297e19c40>]"
      ]
     },
     "execution_count": 215,
     "metadata": {},
     "output_type": "execute_result"
    },
    {
     "data": {
      "image/png": "[encoded data removed]",
      "text/plain": [
       "<Figure size 432x288 with 1 Axes>"
      ]
     },
     "metadata": {
      "needs_background": "light"
     },
     "output_type": "display_data"
    }
   ],
   "source": [
    "plt.plot(dsf_L[3,:],om,label=str(ik))"
   ]
  }
 ],
 "metadata": {
  "interpreter": {
   "hash": "cb7935f57bbdef563505bbe55a73b776f504e7646c87521f5e2f2142831702de"
  },
  "kernelspec": {
   "display_name": "Python 3.9.5 64-bit ('env_3.9': venv)",
   "name": "python3"
  },
  "language_info": {
   "codemirror_mode": {
    "name": "ipython",
    "version": 3
   },
   "file_extension": ".py",
   "mimetype": "text/x-python",
   "name": "python",
   "nbconvert_exporter": "python",
   "pygments_lexer": "ipython3",
   "version": "3.9.5"
  },
  "orig_nbformat": 4
 },
 "nbformat": 4,
 "nbformat_minor": 2
}
