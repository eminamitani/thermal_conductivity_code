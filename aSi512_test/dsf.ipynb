{
 "cells": [
  {
   "cell_type": "markdown",
   "metadata": {},
   "source": [
    "Dynamical Structure Factor\n",
    "(Still someting wrong)"
   ]
  },
  {
   "cell_type": "code",
   "execution_count": 76,
   "metadata": {},
   "outputs": [],
   "source": [
    "from ase.io import read\n",
    "\n",
    "atoms=read('optimized.vasp',format='vasp')"
   ]
  },
  {
   "cell_type": "code",
   "execution_count": 77,
   "metadata": {},
   "outputs": [],
   "source": [
    "import numpy as np\n",
    "natom=len(atoms.positions)\n",
    "nmodes=natom*3\n",
    "dyn_file='Dyn.form'\n",
    "lammps_dyn=np.loadtxt(dyn_file).reshape((nmodes,nmodes))"
   ]
  },
  {
   "cell_type": "code",
   "execution_count": 78,
   "metadata": {},
   "outputs": [],
   "source": [
    "eigenvalue, eigenvector=np.linalg.eigh(lammps_dyn)"
   ]
  },
  {
   "cell_type": "code",
   "execution_count": 79,
   "metadata": {},
   "outputs": [],
   "source": [
    "def broadening(omega1, omega2, sigma):\n",
    "    delta=1.0/np.pi*sigma/((omega1-omega2)**2+sigma*sigma)\n",
    "    return delta"
   ]
  },
  {
   "cell_type": "code",
   "execution_count": 80,
   "metadata": {},
   "outputs": [
    {
     "data": {
      "text/plain": [
       "5.47232925"
      ]
     },
     "execution_count": 80,
     "metadata": {},
     "output_type": "execute_result"
    }
   ],
   "source": [
    "a_super=atoms.cell[0,0]\n",
    "a0=a_super/4\n",
    "a0"
   ]
  },
  {
   "cell_type": "code",
   "execution_count": 107,
   "metadata": {},
   "outputs": [
    {
     "data": {
      "text/plain": [
       "0.28704346084346016"
      ]
     },
     "execution_count": 107,
     "metadata": {},
     "output_type": "execute_result"
    }
   ],
   "source": [
    "kmin=2.0*np.pi/21.8893169999999984\n",
    "kmin"
   ]
  },
  {
   "cell_type": "code",
   "execution_count": 109,
   "metadata": {},
   "outputs": [],
   "source": [
    "omega_min=5.0\n",
    "omega_max=100.0\n",
    "nom=100\n",
    "nwn=10\n",
    "om=np.linspace(omega_min,omega_max,nom)\n",
    "wn=np.linspace(kmin,kmin*10,nwn)\n",
    "\n",
    "dsf_L=np.zeros([nwn,nom])\n",
    "EL=np.zeros([nwn,nmodes])"
   ]
  },
  {
   "cell_type": "code",
   "execution_count": 110,
   "metadata": {},
   "outputs": [
    {
     "data": {
      "text/plain": [
       "array([0.28704346, 0.57408692, 0.86113038, 1.14817384, 1.4352173 ,\n",
       "       1.72226077, 2.00930423, 2.29634769, 2.58339115, 2.87043461])"
      ]
     },
     "execution_count": 110,
     "metadata": {},
     "output_type": "execute_result"
    }
   ],
   "source": [
    "wn"
   ]
  },
  {
   "cell_type": "code",
   "execution_count": 111,
   "metadata": {},
   "outputs": [],
   "source": [
    "import pyAF.constants\n",
    "pc=pyAF.constants.physical_constants()\n",
    "omega=[]\n",
    "#extract minimum index of negative frequency\n",
    "mode_negative=0\n",
    "for i in range(nmodes):\n",
    "    if eigenvalue[i] <0.0:\n",
    "        val=-np.sqrt(-eigenvalue[i])*pc.scale_cm\n",
    "        omega.append(val)\n",
    "        mode_negative=i\n",
    "    else:\n",
    "        val=np.sqrt(eigenvalue[i])*pc.scale_cm\n",
    "        omega.append(val)"
   ]
  },
  {
   "cell_type": "code",
   "execution_count": 119,
   "metadata": {},
   "outputs": [
    {
     "data": {
      "text/plain": [
       "117.73720279192405"
      ]
     },
     "execution_count": 119,
     "metadata": {},
     "output_type": "execute_result"
    }
   ],
   "source": [
    "omega[100]"
   ]
  },
  {
   "cell_type": "code",
   "execution_count": 129,
   "metadata": {},
   "outputs": [
    {
     "data": {
      "text/plain": [
       "array([[1, 0, 0],\n",
       "       [1, 0, 0],\n",
       "       [1, 0, 0]])"
      ]
     },
     "execution_count": 129,
     "metadata": {},
     "output_type": "execute_result"
    }
   ],
   "source": [
    "k=np.array([[1,0,0]])\n",
    "np.repeat(k,3,axis=0)"
   ]
  },
  {
   "cell_type": "code",
   "execution_count": 167,
   "metadata": {},
   "outputs": [
    {
     "name": "stdout",
     "output_type": "stream",
     "text": [
      "[-2.65424349e-02 -2.56939634e-02  2.42578521e-02 ... -4.72602373e-05\n",
      "  1.15795411e-05  8.23562723e-06]\n"
     ]
    }
   ],
   "source": [
    "#test for single mode eigenvector\n",
    "ind=10\n",
    "partial=eigenvector[:,ind]\n",
    "print(partial)\n",
    "EL=np.zeros([nwn,nmodes])\n",
    "\n",
    "for ik in range(nwn):\n",
    "    #100 direction\n",
    "    k=np.array([[0,wn[ik],0]])\n",
    "    n_1=np.array([[1.0,0.0,0.0]])\n",
    "    disp=np.reshape(partial,(natom,3))\n",
    "    polarlization=np.dot(n_1,disp.T)\n",
    "    phase=np.exp(1.0j*np.dot(k,atoms.positions.T))\n",
    "    value=np.dot(polarlization,phase.T)\n",
    "    \n",
    "    EL[ik,ind]=EL[ik,ind]+np.abs(value)**2/3"
   ]
  },
  {
   "cell_type": "code",
   "execution_count": 168,
   "metadata": {},
   "outputs": [
    {
     "data": {
      "text/plain": [
       "array([0.18216322, 0.10147414, 0.38539644, 0.10183702, 0.01300683,\n",
       "       0.0027919 , 0.09536299, 0.17804513, 0.3526594 , 0.10023854])"
      ]
     },
     "execution_count": 168,
     "metadata": {},
     "output_type": "execute_result"
    }
   ],
   "source": [
    "EL[:,ind]"
   ]
  },
  {
   "cell_type": "code",
   "execution_count": 169,
   "metadata": {},
   "outputs": [
    {
     "data": {
      "text/plain": [
       "[<matplotlib.lines.Line2D at 0x2b11a5fbf2b0>]"
      ]
     },
     "execution_count": 169,
     "metadata": {},
     "output_type": "execute_result"
    },
    {
     "data": {
      "image/png": "[encoded data removed]",
      "text/plain": [
       "<Figure size 432x288 with 1 Axes>"
      ]
     },
     "metadata": {
      "needs_background": "light"
     },
     "output_type": "display_data"
    }
   ],
   "source": [
    "import matplotlib.pyplot as plt \n",
    "plt.plot(wn,EL[:,ind])"
   ]
  },
  {
   "cell_type": "code",
   "execution_count": 88,
   "metadata": {},
   "outputs": [
    {
     "data": {
      "text/plain": [
       "53.822171078339295"
      ]
     },
     "execution_count": 88,
     "metadata": {},
     "output_type": "execute_result"
    }
   ],
   "source": [
    "omega[ind]"
   ]
  },
  {
   "cell_type": "code",
   "execution_count": 89,
   "metadata": {},
   "outputs": [],
   "source": [
    "b=[]\n",
    "sigma=0.01\n",
    "for iw in range(nom):\n",
    "    b.append(broadening(om[iw],omega[ind],sigma))"
   ]
  },
  {
   "cell_type": "code",
   "execution_count": 90,
   "metadata": {},
   "outputs": [
    {
     "data": {
      "text/plain": [
       "[1.3354140239251236e-06,\n",
       " 1.389498193276332e-06,\n",
       " 1.4469357591362824e-06,\n",
       " 1.5080097904497662e-06,\n",
       " 1.5730338671178176e-06,\n",
       " 1.6423561131785468e-06,\n",
       " 1.7163638659674142e-06,\n",
       " 1.7954890985051824e-06,\n",
       " 1.880214737251914e-06,\n",
       " 1.9710820482679887e-06,\n",
       " 2.0686993033751982e-06,\n",
       " 2.173751986248244e-06,\n",
       " 2.287014859292349e-06,\n",
       " 2.40936628937847e-06,\n",
       " 2.5418053289365175e-06,\n",
       " 2.685472175140049e-06,\n",
       " 2.8416727928434786e-06,\n",
       " 3.0119086986382884e-06,\n",
       " 3.1979131804364454e-06,\n",
       " 3.4016955922518026e-06,\n",
       " 3.6255958492496703e-06,\n",
       " 3.872351898609706e-06,\n",
       " 4.145183821218671e-06,\n",
       " 4.447899419581625e-06,\n",
       " 4.785027802273553e-06,\n",
       " 5.161989781524034e-06,\n",
       " 5.585317151631347e-06,\n",
       " 6.062937555748229e-06,\n",
       " 6.604548358712583e-06,\n",
       " 7.222112787408606e-06,\n",
       " 7.930526265963821e-06,\n",
       " 8.748523092427636e-06,\n",
       " 9.699927887145833e-06,\n",
       " 1.0815410207916945e-05,\n",
       " 1.2134987554502129e-05,\n",
       " 1.3711665107908105e-05,\n",
       " 1.5616842884437937e-05,\n",
       " 1.794854377895278e-05,\n",
       " 2.0844278857886142e-05,\n",
       " 2.45017962849187e-05,\n",
       " 2.9213760145371025e-05,\n",
       " 3.542817012631252e-05,\n",
       " 4.385892060521137e-05,\n",
       " 5.5700369385761316e-05,\n",
       " 7.30748596635466e-05,\n",
       " 0.00010005440370510793,\n",
       " 0.0001452833902980089,\n",
       " 0.00022987411749278154,\n",
       " 0.0004173821649118754,\n",
       " 0.000980261833903285,\n",
       " 0.004485180756100737,\n",
       " 0.22997276655438628,\n",
       " 0.0027449055148056705,\n",
       " 0.0007675508799973499,\n",
       " 0.0003546161882414492,\n",
       " 0.0002034328784668055,\n",
       " 0.00013175450440937065,\n",
       " 9.222802334049494e-05,\n",
       " 6.814737000405261e-05,\n",
       " 5.2399804173476485e-05,\n",
       " 4.1541053426629576e-05,\n",
       " 3.373856240097094e-05,\n",
       " 2.7944398135586625e-05,\n",
       " 2.352410256254992e-05,\n",
       " 2.0075319674010072e-05,\n",
       " 1.7332886882361502e-05,\n",
       " 1.5116300778436953e-05,\n",
       " 1.3299237698551557e-05,\n",
       " 1.1791148689694488e-05,\n",
       " 1.0525756292657071e-05,\n",
       " 9.453646242502832e-06,\n",
       " 8.537369057095055e-06,\n",
       " 7.748124727295625e-06,\n",
       " 7.06347167484027e-06,\n",
       " 6.4657136607524505e-06,\n",
       " 5.940744699116196e-06,\n",
       " 5.477209168407948e-06,\n",
       " 5.065882521823857e-06,\n",
       " 4.699208780077042e-06,\n",
       " 4.370951032297426e-06,\n",
       " 4.0759244554784784e-06,\n",
       " 3.809790314541714e-06,\n",
       " 3.568895529016799e-06,\n",
       " 3.3501466409576564e-06,\n",
       " 3.1509100049124913e-06,\n",
       " 2.9689321452288646e-06,\n",
       " 2.8022757545544997e-06,\n",
       " 2.649267918914523e-06,\n",
       " 2.508457971044772e-06,\n",
       " 2.3785829787547752e-06,\n",
       " 2.258539327574423e-06,\n",
       " 2.1473591981021378e-06,\n",
       " 2.044190997718761e-06,\n",
       " 1.948283004788397e-06,\n",
       " 1.8589696364547808e-06,\n",
       " 1.7756598698618738e-06,\n",
       " 1.697827439337941e-06,\n",
       " 1.6250025049168698e-06,\n",
       " 1.556764545117639e-06,\n",
       " 1.4927362726195968e-06]"
      ]
     },
     "execution_count": 90,
     "metadata": {},
     "output_type": "execute_result"
    }
   ],
   "source": [
    "b"
   ]
  },
  {
   "cell_type": "code",
   "execution_count": 91,
   "metadata": {},
   "outputs": [],
   "source": [
    "dsf_L=np.zeros([nwn,nom])\n",
    "sigma=0.5\n",
    "for iw in range(nom):\n",
    "    for ik in range(nwn):\n",
    "        dsf_L[ik,iw]=dsf_L[ik,iw]+EL[ik,ind]*broadening(om[iw],omega[ind],sigma)"
   ]
  },
  {
   "cell_type": "code",
   "execution_count": 92,
   "metadata": {},
   "outputs": [
    {
     "data": {
      "text/plain": [
       "array([1.15649343e-17, 1.20332622e-17, 1.25306236e-17, 1.30594689e-17,\n",
       "       1.36225123e-17, 1.42227673e-17, 1.48635864e-17, 1.55487086e-17,\n",
       "       1.62823137e-17, 1.70690861e-17, 1.79142903e-17, 1.88238585e-17,\n",
       "       1.98044955e-17, 2.08638021e-17, 2.20104234e-17, 2.32542250e-17,\n",
       "       2.46065064e-17, 2.60802583e-17, 2.76904756e-17, 2.94545401e-17,\n",
       "       3.13926919e-17, 3.35286119e-17, 3.58901482e-17, 3.85102286e-17,\n",
       "       4.14280140e-17, 4.46903691e-17, 4.83537557e-17, 5.24866907e-17,\n",
       "       5.71729712e-17, 6.25159536e-17, 6.86442970e-17, 7.57197767e-17,\n",
       "       8.39480615e-17, 9.35938171e-17, 1.05002236e-16, 1.18630321e-16,\n",
       "       1.35093317e-16, 1.55235286e-16, 1.80239312e-16, 2.11804941e-16,\n",
       "       2.52444144e-16, 3.05995623e-16, 3.78562745e-16, 4.80325713e-16,\n",
       "       6.29297974e-16, 8.59826592e-16, 1.24412272e-15, 1.95566738e-15,\n",
       "       3.50028880e-15, 7.88344018e-15, 2.87300299e-14, 1.04530955e-13,\n",
       "       1.95589649e-14, 6.27000511e-15, 2.98817248e-15, 1.73425326e-15,\n",
       "       1.12945529e-15, 7.93053366e-16, 5.87089785e-16, 4.51980278e-16,\n",
       "       3.58621401e-16, 2.91440913e-16, 2.41499249e-16, 2.03368881e-16,\n",
       "       1.73600628e-16, 1.49917763e-16, 1.30768516e-16, 1.15065811e-16,\n",
       "       1.02029801e-16, 9.10892953e-17, 8.18181969e-17, 7.38934310e-17,\n",
       "       6.70664429e-17, 6.11434876e-17, 5.59717438e-17, 5.14293635e-17,\n",
       "       4.74182349e-17, 4.38586430e-17, 4.06852805e-17, 3.78442326e-17,\n",
       "       3.52906733e-17, 3.29870867e-17, 3.09018824e-17, 2.90083064e-17,\n",
       "       2.72835795e-17, 2.57082091e-17, 2.42654361e-17, 2.29407878e-17,\n",
       "       2.17217133e-17, 2.05972852e-17, 1.95579542e-17, 1.85953456e-17,\n",
       "       1.77020901e-17, 1.68716822e-17, 1.60983619e-17, 1.53770140e-17,\n",
       "       1.47030837e-17, 1.40725046e-17, 1.34816368e-17, 1.29272147e-17])"
      ]
     },
     "execution_count": 92,
     "metadata": {},
     "output_type": "execute_result"
    }
   ],
   "source": [
    "dsf_L[0,:]"
   ]
  },
  {
   "cell_type": "code",
   "execution_count": 93,
   "metadata": {},
   "outputs": [
    {
     "data": {
      "text/plain": [
       "<matplotlib.legend.Legend at 0x2b11a9a27dc0>"
      ]
     },
     "execution_count": 93,
     "metadata": {},
     "output_type": "execute_result"
    },
    {
     "data": {
      "image/png": "[encoded data removed]",
      "text/plain": [
       "<Figure size 432x288 with 1 Axes>"
      ]
     },
     "metadata": {
      "needs_background": "light"
     },
     "output_type": "display_data"
    }
   ],
   "source": [
    "import matplotlib.pyplot as plt \n",
    "for ik in range(nwn):\n",
    "    plt.plot(dsf_L[ik,:],om,label=str(ik))\n",
    "plt.legend()"
   ]
  },
  {
   "cell_type": "code",
   "execution_count": 94,
   "metadata": {},
   "outputs": [],
   "source": [
    "#[100] direction\n",
    "dsf_L=np.zeros([nwn,nom])\n",
    "EL=np.zeros([nwn,nmodes])\n",
    "\n",
    "for ind, vec in enumerate(eigenvector.T):\n",
    "    for ik in range(nwn):\n",
    "        k=np.array([wn[ik],0,0])\n",
    "        contrib=0.0\n",
    "        for j in range(natom):\n",
    "            nstart=3*j\n",
    "            nend=3*(j+1)\n",
    "            disp=vec[nstart:nend]\n",
    "            pos=atoms.positions[j]\n",
    "            phase=np.exp(1.0j*np.dot(k,pos))\n",
    "            polarlization=np.dot(k,disp)\n",
    "            factor=phase*polarlization\n",
    "            contrib=contrib+factor\n",
    "\n",
    "        EL[ik,ind]=EL[ik,ind]+np.abs(contrib)**2/3\n"
   ]
  },
  {
   "cell_type": "code",
   "execution_count": 95,
   "metadata": {},
   "outputs": [
    {
     "data": {
      "text/plain": [
       "array([0., 0., 0., ..., 0., 0., 0.])"
      ]
     },
     "execution_count": 95,
     "metadata": {},
     "output_type": "execute_result"
    }
   ],
   "source": [
    "EL[0,:]"
   ]
  },
  {
   "cell_type": "code",
   "execution_count": 102,
   "metadata": {},
   "outputs": [],
   "source": [
    "sigma=0.01\n",
    "for iw in range(nom):\n",
    "    for ik in range(nwn):\n",
    "        for ind in range(nmodes):\n",
    "            dsf_L[ik,iw]=dsf_L[ik,iw]+EL[ik,ind]*broadening(om[iw],omega[ind],sigma)"
   ]
  },
  {
   "cell_type": "code",
   "execution_count": 106,
   "metadata": {},
   "outputs": [
    {
     "data": {
      "text/plain": [
       "1.1481738433738407"
      ]
     },
     "execution_count": 106,
     "metadata": {},
     "output_type": "execute_result"
    }
   ],
   "source": [
    "np.linalg.norm(k)"
   ]
  }
 ],
 "metadata": {
  "interpreter": {
   "hash": "cb7935f57bbdef563505bbe55a73b776f504e7646c87521f5e2f2142831702de"
  },
  "kernelspec": {
   "display_name": "Python 3.9.5 64-bit ('env_3.9': venv)",
   "name": "python3"
  },
  "language_info": {
   "codemirror_mode": {
    "name": "ipython",
    "version": 3
   },
   "file_extension": ".py",
   "mimetype": "text/x-python",
   "name": "python",
   "nbconvert_exporter": "python",
   "pygments_lexer": "ipython3",
   "version": "3.9.5"
  },
  "orig_nbformat": 4
 },
 "nbformat": 4,
 "nbformat_minor": 2
}
