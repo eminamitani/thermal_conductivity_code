{
 "cells": [
  {
   "cell_type": "code",
   "execution_count": 51,
   "metadata": {},
   "outputs": [],
   "source": [
    "import numpy as np\n",
    "\n",
    "eigenvalue=np.load('eigenvalue_4096.npy')\n",
    "eigenvector=np.load('eigenvector_4096.npy')"
   ]
  },
  {
   "cell_type": "code",
   "execution_count": 52,
   "metadata": {},
   "outputs": [],
   "source": [
    "def broadening(omega1, omega2, sigma):\n",
    "    delta=1.0/np.pi*sigma/((omega1-omega2)**2+sigma*sigma)\n",
    "    return delta"
   ]
  },
  {
   "cell_type": "code",
   "execution_count": 53,
   "metadata": {},
   "outputs": [
    {
     "data": {
      "text/plain": [
       "0.14279966607226333"
      ]
     },
     "execution_count": 53,
     "metadata": {},
     "output_type": "execute_result"
    }
   ],
   "source": [
    "Gmin=2*np.pi/44\n",
    "Gmin"
   ]
  },
  {
   "cell_type": "code",
   "execution_count": 54,
   "metadata": {},
   "outputs": [],
   "source": [
    "import pyAF.constants\n",
    "pc=pyAF.constants.physical_constants()\n",
    "omega=[]\n",
    "nmodes=len(eigenvalue)\n",
    "#extract minimum index of negative frequency\n",
    "mode_negative=0\n",
    "for i in range(nmodes):\n",
    "    if eigenvalue[i] <0.0:\n",
    "        val=0\n",
    "        omega.append(val)\n",
    "        mode_negative=i\n",
    "    else:\n",
    "        val=np.sqrt(eigenvalue[i])*pc.scale_THz\n",
    "        omega.append(val)"
   ]
  },
  {
   "cell_type": "code",
   "execution_count": 55,
   "metadata": {},
   "outputs": [
    {
     "data": {
      "text/plain": [
       "12288"
      ]
     },
     "execution_count": 55,
     "metadata": {},
     "output_type": "execute_result"
    }
   ],
   "source": [
    "len(omega)"
   ]
  },
  {
   "cell_type": "code",
   "execution_count": 56,
   "metadata": {},
   "outputs": [
    {
     "data": {
      "text/plain": [
       "18.88940909665957"
      ]
     },
     "execution_count": 56,
     "metadata": {},
     "output_type": "execute_result"
    }
   ],
   "source": [
    "np.max(np.array(omega))"
   ]
  },
  {
   "cell_type": "code",
   "execution_count": 57,
   "metadata": {},
   "outputs": [],
   "source": [
    "k=np.array([1.8,0.0,0.0])\n",
    "from ase.io import read\n",
    "atoms=read('/home/emi/lammps/aSi-4096/optimized.data',format='lammps-data',style='atomic')\n",
    "natom=len(atoms.positions)"
   ]
  },
  {
   "cell_type": "code",
   "execution_count": 58,
   "metadata": {},
   "outputs": [
    {
     "data": {
      "text/plain": [
       "(12288,)"
      ]
     },
     "execution_count": 58,
     "metadata": {},
     "output_type": "execute_result"
    }
   ],
   "source": [
    "eigenvector[:,0].shape"
   ]
  },
  {
   "cell_type": "code",
   "execution_count": 59,
   "metadata": {},
   "outputs": [],
   "source": [
    "#evaluate Fourier component\n",
    "#100 direction\n",
    "import numpy as np\n",
    "def get_C(eigenvector, position, k_vector):\n",
    "    unit_vector=k_vector/np.linalg.norm(k_vector)\n",
    "    disp=np.reshape(eigenvector,(natom,3))\n",
    "\n",
    "    polalization_L=np.dot(unit_vector, disp.T)\n",
    "    \n",
    "    array_unit_vector=np.repeat(unit_vector.reshape(1,3),natom,axis=0)\n",
    "    polalization_T=np.cross(array_unit_vector,disp) \n",
    "    phase=np.exp(1.0j*np.dot(k_vector, position.T))\n",
    "\n",
    "    return np.linalg.norm(np.dot(polalization_L, phase))**2, np.linalg.norm(np.dot(polalization_T.T, phase))**2"
   ]
  },
  {
   "cell_type": "code",
   "execution_count": 60,
   "metadata": {},
   "outputs": [
    {
     "data": {
      "text/plain": [
       "(3.441379086370923, 14.232408246131635)"
      ]
     },
     "execution_count": 60,
     "metadata": {},
     "output_type": "execute_result"
    }
   ],
   "source": [
    "id=800\n",
    "E=omega[id]\n",
    "position=atoms.positions\n",
    "ev=eigenvector[:,id]\n",
    "\n",
    "kvec=np.linspace(0.1,1.9,100)\n",
    "C_T=[]\n",
    "C_L=[]\n",
    "for k in kvec:\n",
    "    k_vector=[k,0,0]\n",
    "    unit_vector=[1.0,0.0,0.0]\n",
    "    cl, ct=get_C(eigenvector=ev,position=position, k_vector=k_vector)\n",
    "    C_L.append(cl)\n",
    "    C_T.append(ct)\n",
    "\n",
    "\n",
    "#THz and meV\n",
    "E, E*4.13567"
   ]
  },
  {
   "cell_type": "code",
   "execution_count": 61,
   "metadata": {},
   "outputs": [
    {
     "data": {
      "text/plain": [
       "array([[ 0.        ,  0.00040622, -0.00954519],\n",
       "       [ 0.        , -0.00211555, -0.00168661],\n",
       "       [ 0.        ,  0.01390916, -0.005147  ],\n",
       "       ...,\n",
       "       [-0.        ,  0.00131056,  0.0062524 ],\n",
       "       [ 0.        , -0.00698246, -0.00612409],\n",
       "       [ 0.        ,  0.00254343, -0.00653006]])"
      ]
     },
     "execution_count": 61,
     "metadata": {},
     "output_type": "execute_result"
    }
   ],
   "source": [
    "disp=np.reshape(ev,(natom,3))\n",
    "disp.shape\n",
    "uv=np.repeat(np.array(unit_vector).reshape(1,3),natom,axis=0)\n",
    "np.cross(uv,disp)"
   ]
  },
  {
   "cell_type": "code",
   "execution_count": 62,
   "metadata": {},
   "outputs": [
    {
     "data": {
      "text/plain": [
       "<matplotlib.legend.Legend at 0x2b5297b8d2b0>"
      ]
     },
     "execution_count": 62,
     "metadata": {},
     "output_type": "execute_result"
    },
    {
     "data": {
      "image/png": "[encoded data removed]",
      "text/plain": [
       "<Figure size 432x288 with 1 Axes>"
      ]
     },
     "metadata": {
      "needs_background": "light"
     },
     "output_type": "display_data"
    }
   ],
   "source": [
    "import matplotlib.pyplot as plt\n",
    "plt.plot(kvec,C_T,label='T')\n",
    "plt.plot(kvec,C_L,label='L')\n",
    "plt.legend()\n"
   ]
  },
  {
   "cell_type": "code",
   "execution_count": 63,
   "metadata": {},
   "outputs": [],
   "source": [
    "def polar_coord_sampling(n_sample,diameter):\n",
    "    theta=np.linspace(0,np.pi,n_sample,endpoint=False)\n",
    "    phi=np.linspace(0,2.0*np.pi,n_sample,endpoint=False)\n",
    "    x=np.array([[diameter*np.sin(t)*np.cos(p) for t in theta] for p in phi]).flatten()\n",
    "    y=np.array([[diameter*np.sin(t)*np.sin(p) for t in theta] for p in phi]).flatten()\n",
    "    z=np.array([[diameter*np.cos(t) for t in theta] for p in phi]).flatten()\n",
    "\n",
    "    return np.stack([x,y,z],axis=1)"
   ]
  },
  {
   "cell_type": "code",
   "execution_count": 72,
   "metadata": {},
   "outputs": [
    {
     "data": {
      "text/plain": [
       "(5.118068644089378, 21.16664294930112)"
      ]
     },
     "execution_count": 72,
     "metadata": {},
     "output_type": "execute_result"
    }
   ],
   "source": [
    "id=2400\n",
    "n_sample=10\n",
    "E=omega[id]\n",
    "position=atoms.positions\n",
    "ev=eigenvector[:,id]\n",
    "\n",
    "kvec=np.linspace(0.1,1.9,100)\n",
    "C_L=[]\n",
    "C_T=[]\n",
    "for k in kvec:\n",
    "    k_vector=polar_coord_sampling(n_sample,k)\n",
    "    tmp_L=np.zeros(n_sample*n_sample)\n",
    "    tmp_T=np.zeros(n_sample*n_sample)\n",
    "    for i,vec in enumerate(k_vector):\n",
    "\n",
    "        unit_vector_L=vec/np.linalg.norm(vec)\n",
    "        tmp_L[i], tmp_T[i]=get_C(ev,position,vec)\n",
    "    C_L.append(np.mean(tmp_L))\n",
    "    C_T.append(np.mean(tmp_T))\n",
    "\n",
    "#THz and meV\n",
    "E, E*4.13567"
   ]
  },
  {
   "cell_type": "code",
   "execution_count": 73,
   "metadata": {},
   "outputs": [
    {
     "data": {
      "text/plain": [
       "<matplotlib.legend.Legend at 0x2b5297eac4f0>"
      ]
     },
     "execution_count": 73,
     "metadata": {},
     "output_type": "execute_result"
    },
    {
     "data": {
      "image/png": "[encoded data removed]",
      "text/plain": [
       "<Figure size 432x288 with 1 Axes>"
      ]
     },
     "metadata": {
      "needs_background": "light"
     },
     "output_type": "display_data"
    }
   ],
   "source": [
    "import matplotlib.pyplot as plt\n",
    "plt.plot(kvec,C_L,label='L')\n",
    "plt.plot(kvec,C_T,label='T')\n",
    "plt.legend()"
   ]
  }
 ],
 "metadata": {
  "interpreter": {
   "hash": "cb7935f57bbdef563505bbe55a73b776f504e7646c87521f5e2f2142831702de"
  },
  "kernelspec": {
   "display_name": "Python 3.9.5 64-bit ('env_3.9': venv)",
   "name": "python3"
  },
  "language_info": {
   "codemirror_mode": {
    "name": "ipython",
    "version": 3
   },
   "file_extension": ".py",
   "mimetype": "text/x-python",
   "name": "python",
   "nbconvert_exporter": "python",
   "pygments_lexer": "ipython3",
   "version": "3.9.5"
  },
  "orig_nbformat": 4
 },
 "nbformat": 4,
 "nbformat_minor": 2
}
