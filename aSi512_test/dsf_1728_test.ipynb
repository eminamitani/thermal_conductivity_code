{
 "cells": [
  {
   "cell_type": "code",
   "execution_count": 10,
   "metadata": {},
   "outputs": [],
   "source": [
    "from ase.io import read\n",
    "atoms=read('/home/emi/lammps/aSi-1728/relaxed.data',format='lammps-data',style='atomic')"
   ]
  },
  {
   "cell_type": "code",
   "execution_count": 11,
   "metadata": {},
   "outputs": [],
   "source": [
    "import numpy as np\n",
    "natom=len(atoms.positions)\n",
    "nmodes=natom*3\n",
    "dyn_file='/home/emi/lammps/aSi-1728/Dyn.form'\n",
    "lammps_dyn=np.loadtxt(dyn_file).reshape((nmodes,nmodes))"
   ]
  },
  {
   "cell_type": "code",
   "execution_count": 12,
   "metadata": {},
   "outputs": [],
   "source": [
    "eigenvalue, eigenvector=np.linalg.eigh(lammps_dyn)"
   ]
  },
  {
   "cell_type": "code",
   "execution_count": 13,
   "metadata": {},
   "outputs": [
    {
     "data": {
      "text/plain": [
       "array([9.82072892e-05, 1.19146938e-04, 1.35273458e-04, ...,\n",
       "       1.47320516e+00, 1.49274957e+00, 1.51751320e+00])"
      ]
     },
     "execution_count": 13,
     "metadata": {},
     "output_type": "execute_result"
    }
   ],
   "source": [
    "eigenvalue"
   ]
  },
  {
   "cell_type": "code",
   "execution_count": 14,
   "metadata": {},
   "outputs": [],
   "source": [
    "#evaluate Fourier component\n",
    "#100 direction\n",
    "import numpy as np\n",
    "def get_C(eigenvector, position,unit_vector, k_vector):\n",
    "    disp=np.reshape(eigenvector,(natom,3))\n",
    "    polalization=np.dot(unit_vector, disp.T)\n",
    "    phase=np.exp(1.0j*np.dot(k_vector, position.T))\n",
    "\n",
    "    return np.abs(np.dot(polalization, phase))"
   ]
  },
  {
   "cell_type": "code",
   "execution_count": 15,
   "metadata": {},
   "outputs": [],
   "source": [
    "import pyAF.constants\n",
    "pc=pyAF.constants.physical_constants()\n",
    "omega=[]\n",
    "nmodes=len(eigenvalue)\n",
    "#extract minimum index of negative frequency\n",
    "mode_negative=0\n",
    "for i in range(nmodes):\n",
    "    if eigenvalue[i] <0.0:\n",
    "        val=0\n",
    "        omega.append(val)\n",
    "        mode_negative=i\n",
    "    else:\n",
    "        val=np.sqrt(eigenvalue[i])*pc.scale_THz\n",
    "        omega.append(val)"
   ]
  },
  {
   "cell_type": "code",
   "execution_count": 40,
   "metadata": {},
   "outputs": [
    {
     "data": {
      "text/plain": [
       "0.19136245817894493"
      ]
     },
     "execution_count": 40,
     "metadata": {},
     "output_type": "execute_result"
    }
   ],
   "source": [
    "kmin=2*np.pi/atoms.cell[0,0]\n",
    "kmin"
   ]
  },
  {
   "cell_type": "code",
   "execution_count": 134,
   "metadata": {},
   "outputs": [],
   "source": [
    "def polar_coord_sampling(n_sample,diameter):\n",
    "    theta=np.linspace(0,np.pi,n_sample,endpoint=False)\n",
    "    phi=np.linspace(0,2.0*np.pi,n_sample,endpoint=False)\n",
    "    x=np.array([[diameter*np.sin(t)*np.cos(p) for t in theta] for p in phi]).flatten()\n",
    "    y=np.array([[diameter*np.sin(t)*np.sin(p) for t in theta] for p in phi]).flatten()\n",
    "    z=np.array([[diameter*np.cos(t) for t in theta] for p in phi]).flatten()\n",
    "\n",
    "    return np.stack([x,y,z],axis=1)\n"
   ]
  },
  {
   "cell_type": "code",
   "execution_count": 135,
   "metadata": {},
   "outputs": [
    {
     "data": {
      "text/plain": [
       "(25, 3)"
      ]
     },
     "execution_count": 135,
     "metadata": {},
     "output_type": "execute_result"
    }
   ],
   "source": [
    "sampling=polar_coord_sampling(5,1.0)\n",
    "sampling.shape"
   ]
  },
  {
   "cell_type": "code",
   "execution_count": 94,
   "metadata": {},
   "outputs": [
    {
     "data": {
      "text/plain": [
       "(5.14188449032418, 21.265137430099)"
      ]
     },
     "execution_count": 94,
     "metadata": {},
     "output_type": "execute_result"
    }
   ],
   "source": [
    "id=1010\n",
    "E=omega[id]\n",
    "unit_vector=[0.0,1.0,0.0]\n",
    "position=atoms.positions\n",
    "ev=eigenvector[:,id]\n",
    "\n",
    "kvec=np.linspace(0.1,1.9,100)\n",
    "C_T=[]\n",
    "C_L=[]\n",
    "for k in kvec:\n",
    "    k_vector=[k,0,0]\n",
    "    unit_vector_L=[1.0,0.0,0.0]\n",
    "    unit_vector_T=[0.0,1.0,0.0]\n",
    "    C_T.append(get_C(ev,position,unit_vector_T,k_vector))\n",
    "    C_L.append(get_C(ev,position,unit_vector_L,k_vector))\n",
    "\n",
    "#THz and meV\n",
    "E, E*4.13567"
   ]
  },
  {
   "cell_type": "code",
   "execution_count": 95,
   "metadata": {},
   "outputs": [
    {
     "data": {
      "text/plain": [
       "<matplotlib.legend.Legend at 0x2ac6ee3d9940>"
      ]
     },
     "execution_count": 95,
     "metadata": {},
     "output_type": "execute_result"
    },
    {
     "data": {
      "image/png": "[encoded data removed]",
      "text/plain": [
       "<Figure size 432x288 with 1 Axes>"
      ]
     },
     "metadata": {
      "needs_background": "light"
     },
     "output_type": "display_data"
    }
   ],
   "source": [
    "import matplotlib.pyplot as plt\n",
    "plt.plot(kvec,C_T,label='T')\n",
    "plt.plot(kvec,C_L,label='L')\n",
    "plt.legend()\n"
   ]
  },
  {
   "cell_type": "markdown",
   "metadata": {},
   "source": [
    "average for k"
   ]
  },
  {
   "cell_type": "code",
   "execution_count": 166,
   "metadata": {},
   "outputs": [
    {
     "data": {
      "text/plain": [
       "(2.3356163906865186, 9.659338638470516)"
      ]
     },
     "execution_count": 166,
     "metadata": {},
     "output_type": "execute_result"
    }
   ],
   "source": [
    "id=300\n",
    "n_sample=15\n",
    "E=omega[id]\n",
    "position=atoms.positions\n",
    "ev=eigenvector[:,id]\n",
    "\n",
    "kvec=np.linspace(0.1,1.9,100)\n",
    "C_T=[]\n",
    "C_L=[]\n",
    "for k in kvec:\n",
    "    k_vector=polar_coord_sampling(n_sample,k)\n",
    "    tmp_L=np.zeros(n_sample*n_sample)\n",
    "    tmp_T=np.zeros(n_sample*n_sample)\n",
    "    for i,vec in enumerate(k_vector):\n",
    "\n",
    "        unit_vector_L=vec/np.linalg.norm(vec)\n",
    "        unit_vector_T=np.array([unit_vector_L[1],-unit_vector_L[0],0])\n",
    "        tmp_L[i]=get_C(ev,position,unit_vector_L,vec)\n",
    "        tmp_T[i]=get_C(ev,position,unit_vector_T,vec)\n",
    "    C_L.append(np.mean(tmp_L))\n",
    "    C_T.append(np.mean(tmp_T))\n",
    "\n",
    "#THz and meV\n",
    "E, E*4.13567"
   ]
  },
  {
   "cell_type": "code",
   "execution_count": 167,
   "metadata": {},
   "outputs": [
    {
     "data": {
      "text/plain": [
       "<matplotlib.legend.Legend at 0x2ac6eea025b0>"
      ]
     },
     "execution_count": 167,
     "metadata": {},
     "output_type": "execute_result"
    },
    {
     "data": {
      "image/png": "[encoded data removed]",
      "text/plain": [
       "<Figure size 432x288 with 1 Axes>"
      ]
     },
     "metadata": {
      "needs_background": "light"
     },
     "output_type": "display_data"
    }
   ],
   "source": [
    "import matplotlib.pyplot as plt\n",
    "plt.plot(kvec,C_L,label='L')\n",
    "plt.plot(kvec,C_T,label='T')\n",
    "plt.legend()"
   ]
  }
 ],
 "metadata": {
  "interpreter": {
   "hash": "cb7935f57bbdef563505bbe55a73b776f504e7646c87521f5e2f2142831702de"
  },
  "kernelspec": {
   "display_name": "Python 3.9.5 64-bit ('env_3.9': venv)",
   "name": "python3"
  },
  "language_info": {
   "codemirror_mode": {
    "name": "ipython",
    "version": 3
   },
   "file_extension": ".py",
   "mimetype": "text/x-python",
   "name": "python",
   "nbconvert_exporter": "python",
   "pygments_lexer": "ipython3",
   "version": "3.9.5"
  },
  "orig_nbformat": 4
 },
 "nbformat": 4,
 "nbformat_minor": 2
}
