{
 "cells": [
  {
   "cell_type": "code",
   "execution_count": 1,
   "metadata": {},
   "outputs": [
    {
     "name": "stdout",
     "output_type": "stream",
     "text": [
      "loaded calculation setups:\n",
      "{'structure_file': 'optimized.vasp', 'dyn_file': 'Dyn.form', 'style': 'lammps-regular', 'temperature': 300, 'broadening_factor': 5.0, 'using_mean_spacing': True, 'omega_threshould': 0.01, 'broadening_threshould': 0.01, 'two_dim': False, 'symmetrize_fc': True}\n",
      "enter thermal conductivity calculation\n",
      "style is lammps-regular\n",
      "dynamical matrix&force constants are symmetrized\n",
      "Max drift of force constants: -0.000002 (yy) -0.000002 (yy)\n",
      "Max drift after symmetrization by translation: -0.000000 (yy) -0.000000 (yy)\n",
      "average mode spacing:0.438324 cm-1\n"
     ]
    }
   ],
   "source": [
    "import pyAF\n",
    "from pyAF.interface import thermal_conductivity\n",
    "results=thermal_conductivity('setup.yaml')"
   ]
  },
  {
   "cell_type": "code",
   "execution_count": 2,
   "metadata": {},
   "outputs": [
    {
     "data": {
      "text/plain": [
       "{'freq': array([-1.84751812e-05,  1.22166155e-05,  1.84794272e-05, ...,\n",
       "         6.48100068e+02,  6.57060744e+02,  6.71950359e+02]),\n",
       " 'diffusivity': array([0.00000000e+00, 0.00000000e+00, 0.00000000e+00, ...,\n",
       "        9.35314023e-06, 2.95905087e-33, 1.62880962e-32]),\n",
       " 'thermal_conductivity': array([0.00000000e+00, 0.00000000e+00, 0.00000000e+00, ...,\n",
       "        5.82350336e-07, 1.80690508e-34, 9.62567307e-34])}"
      ]
     },
     "execution_count": 2,
     "metadata": {},
     "output_type": "execute_result"
    }
   ],
   "source": [
    "results"
   ]
  },
  {
   "cell_type": "code",
   "execution_count": 3,
   "metadata": {},
   "outputs": [
    {
     "data": {
      "text/plain": [
       "0.9768075626620725"
      ]
     },
     "execution_count": 3,
     "metadata": {},
     "output_type": "execute_result"
    }
   ],
   "source": [
    "import numpy as np\n",
    "np.sum(results['thermal_conductivity'])"
   ]
  },
  {
   "cell_type": "markdown",
   "metadata": {},
   "source": [
    "GULP output\n",
    "```\n",
    "--------------------------------------------------------------------------------\n",
    "  Thermal conductivity (Allen-Feldman) =     0.976852 W/(m.K) \n",
    "--------------------------------------------------------------------------------\n",
    "```"
   ]
  }
 ],
 "metadata": {
  "interpreter": {
   "hash": "6b06cc675365d6e34b55bbd2104213cd0e0efce92debab3881a805e2e1560b16"
  },
  "kernelspec": {
   "display_name": "Python 3.9.1 64-bit ('3.9.1': pyenv)",
   "name": "python3"
  },
  "language_info": {
   "codemirror_mode": {
    "name": "ipython",
    "version": 3
   },
   "file_extension": ".py",
   "mimetype": "text/x-python",
   "name": "python",
   "nbconvert_exporter": "python",
   "pygments_lexer": "ipython3",
   "version": "3.10.16"
  },
  "orig_nbformat": 4
 },
 "nbformat": 4,
 "nbformat_minor": 2
}
